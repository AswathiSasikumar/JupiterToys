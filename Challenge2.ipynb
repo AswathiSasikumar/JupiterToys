{
 "cells": [
  {
   "cell_type": "markdown",
   "metadata": {},
   "source": [
    "# Challenge 2"
   ]
  },
  {
   "cell_type": "markdown",
   "metadata": {},
   "source": [
    "Write a solution to find the character that has the highest number of occurrences within a certain string, ignoring\n",
    "case. If there is more than one character with equal highest occurrences, return the character that appeared first\n",
    "within the string.\n",
    "For example:\n",
    "Input: \"Character\"\n",
    "Output: c"
   ]
  },
  {
   "cell_type": "code",
   "execution_count": 1,
   "metadata": {},
   "outputs": [
    {
     "name": "stdout",
     "output_type": "stream",
     "text": [
      "Enter a string:  Character\n"
     ]
    }
   ],
   "source": [
    "Entered_String = input(\"Enter a string:  \")"
   ]
  },
  {
   "cell_type": "code",
   "execution_count": 2,
   "metadata": {},
   "outputs": [
    {
     "data": {
      "text/plain": [
       "'CHARACTER'"
      ]
     },
     "execution_count": 2,
     "metadata": {},
     "output_type": "execute_result"
    }
   ],
   "source": [
    "Entered_String = Entered_String.upper()\n",
    "Entered_String = Entered_String.replace(\" \",\"\")\n",
    "Entered_String"
   ]
  },
  {
   "cell_type": "code",
   "execution_count": 3,
   "metadata": {},
   "outputs": [],
   "source": [
    "length = len(Entered_String)\n",
    "#The characters of the string and the count of each character in the string will be stored in dictionary\n",
    "String_Dict = {}\n"
   ]
  },
  {
   "cell_type": "code",
   "execution_count": 4,
   "metadata": {},
   "outputs": [],
   "source": [
    "for i in range(0,length):\n",
    "    String_Dict[Entered_String[i]] =Entered_String.count(Entered_String[i])"
   ]
  },
  {
   "cell_type": "code",
   "execution_count": 5,
   "metadata": {},
   "outputs": [],
   "source": [
    "String_Dict\n",
    "list_Val =set()"
   ]
  },
  {
   "cell_type": "code",
   "execution_count": 6,
   "metadata": {},
   "outputs": [],
   "source": [
    "for key,value in String_Dict.items():\n",
    "    list_Val.add(String_Dict[key])"
   ]
  },
  {
   "cell_type": "code",
   "execution_count": 7,
   "metadata": {},
   "outputs": [
    {
     "data": {
      "text/plain": [
       "{1, 2}"
      ]
     },
     "execution_count": 7,
     "metadata": {},
     "output_type": "execute_result"
    }
   ],
   "source": [
    "list_Val"
   ]
  },
  {
   "cell_type": "code",
   "execution_count": 8,
   "metadata": {},
   "outputs": [
    {
     "data": {
      "text/plain": [
       "{'C': 2, 'H': 1, 'A': 2, 'R': 2, 'T': 1, 'E': 1}"
      ]
     },
     "execution_count": 8,
     "metadata": {},
     "output_type": "execute_result"
    }
   ],
   "source": [
    "String_Dict"
   ]
  },
  {
   "cell_type": "code",
   "execution_count": 9,
   "metadata": {},
   "outputs": [
    {
     "name": "stdout",
     "output_type": "stream",
     "text": [
      "The character with highest occurence is  C\n"
     ]
    }
   ],
   "source": [
    "temp = \"\"\n",
    "for i in list_Val:\n",
    "    for key,value in String_Dict.items():\n",
    "        if String_Dict[key] >= i:\n",
    "            temp = key\n",
    "            break\n",
    "        else:\n",
    "            continue\n",
    "                \n",
    "print(\"The character with highest occurence is \",temp)"
   ]
  }
 ],
 "metadata": {
  "kernelspec": {
   "display_name": "Python 3",
   "language": "python",
   "name": "python3"
  },
  "language_info": {
   "codemirror_mode": {
    "name": "ipython",
    "version": 3
   },
   "file_extension": ".py",
   "mimetype": "text/x-python",
   "name": "python",
   "nbconvert_exporter": "python",
   "pygments_lexer": "ipython3",
   "version": "3.8.5"
  }
 },
 "nbformat": 4,
 "nbformat_minor": 4
}
