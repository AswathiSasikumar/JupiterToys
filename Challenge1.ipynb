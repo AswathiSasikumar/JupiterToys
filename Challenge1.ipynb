{
 "cells": [
  {
   "cell_type": "markdown",
   "metadata": {},
   "source": [
    "# Challenge 1"
   ]
  },
  {
   "cell_type": "markdown",
   "metadata": {},
   "source": [
    "###  Program to get the nth number in the fibonacci sequence given n"
   ]
  },
  {
   "cell_type": "code",
   "execution_count": 1,
   "metadata": {},
   "outputs": [],
   "source": [
    "# first,second,third are the first three numbers of fibonacci series\n",
    "first = 0\n",
    "second = 1\n",
    "third = first + second\n",
    "\n",
    "n = 0 # limit of the fibonacci sequence\n",
    "vals = {} # The fibonacci seguence will be stored in a dictionary"
   ]
  },
  {
   "cell_type": "code",
   "execution_count": 2,
   "metadata": {},
   "outputs": [
    {
     "name": "stdout",
     "output_type": "stream",
     "text": [
      "Enter limit 10\n"
     ]
    }
   ],
   "source": [
    "# prompting user to enter limit of the fibonacci sequence\n",
    "n = int(input(\"Enter limit \"))"
   ]
  },
  {
   "cell_type": "code",
   "execution_count": 3,
   "metadata": {},
   "outputs": [],
   "source": [
    "while n > 0:\n",
    "   for i in range(1,n+1):\n",
    "    vals[i] = first\n",
    "    n = n -1\n",
    "    if n == 0:\n",
    "        break\n",
    "    first = second \n",
    "    second = third\n",
    "    third = first + second"
   ]
  },
  {
   "cell_type": "code",
   "execution_count": 4,
   "metadata": {},
   "outputs": [
    {
     "name": "stdout",
     "output_type": "stream",
     "text": [
      "The fibonacci series is \n",
      "0\n",
      "1\n",
      "1\n",
      "2\n",
      "3\n",
      "5\n",
      "8\n",
      "13\n",
      "21\n",
      "34\n"
     ]
    }
   ],
   "source": [
    "print(\"The fibonacci series is \")\n",
    "for key,value in vals.items():\n",
    "      print(value)"
   ]
  },
  {
   "cell_type": "code",
   "execution_count": 5,
   "metadata": {},
   "outputs": [
    {
     "name": "stdout",
     "output_type": "stream",
     "text": [
      "The entered limit was 10\n",
      "The 10th number in sequence is 34\n"
     ]
    }
   ],
   "source": [
    "print(f'The entered limit was {len(vals)}')\n",
    "print(f'The {len(vals) }th number in sequence is',first)"
   ]
  },
  {
   "cell_type": "markdown",
   "metadata": {},
   "source": [
    "### Given a number F, print out whether it's a fibonacci number and what the closest index n in the fibonacci sequence is."
   ]
  },
  {
   "cell_type": "code",
   "execution_count": 6,
   "metadata": {},
   "outputs": [
    {
     "name": "stdout",
     "output_type": "stream",
     "text": [
      "Enter a number:  1111\n"
     ]
    }
   ],
   "source": [
    "# Prompting user to enter a number\n",
    "num =int(input(\"Enter a number:  \"))"
   ]
  },
  {
   "cell_type": "code",
   "execution_count": 7,
   "metadata": {},
   "outputs": [
    {
     "name": "stdout",
     "output_type": "stream",
     "text": [
      "The number is not fibonacci\n",
      "The closest index is at 17\n"
     ]
    }
   ],
   "source": [
    "# f1,f2,f3 are the first three numbers\n",
    "f1 = 0\n",
    "f2 = 1\n",
    "f3 = f1 + f2\n",
    "\n",
    "# flag is used to indicate if number is fibonacci or not\n",
    "flag = 0\n",
    "\n",
    "# fibonacci number stored in dictonary val with index i\n",
    "val = {}\n",
    "i = 1\n",
    "\n",
    "#Loop to be executed till the entered number is greater than the last number in fibonacci series\n",
    "while num >= f1:\n",
    "    val[i] = f1\n",
    "    i = i + 1\n",
    "    if(num == f1):# if the entered number is equal to number in fibonacci series the entered number is fibonacci\n",
    "        flag = 1\n",
    "        break\n",
    "    else:\n",
    "        f1 = f2\n",
    "        f2 = f3\n",
    "        f3 = f1 + f2\n",
    "        \n",
    "if flag == 1:\n",
    "    print(\"The entered number is fibonacci and at index \",len(val))\n",
    "else:\n",
    "    print(\"The number is not fibonacci\")\n",
    "\n",
    "    val[len(val)+1]=val[len(val)]+val[len(val)-1] # adding the last element of fibonacci series\n",
    "    # The closest number/index is a number whose difference with the entered number is the least\n",
    "    previous_num = val[len(val)-1]\n",
    "    next_num = val[len(val)]\n",
    "    if((num-previous_num)<(next_num-num)):\n",
    "         print(\"The closest index is at\",(len(val)-1))\n",
    "    else:\n",
    "         print(\"The closest index is at\",len(val))"
   ]
  },
  {
   "cell_type": "code",
   "execution_count": 8,
   "metadata": {},
   "outputs": [
    {
     "name": "stdout",
     "output_type": "stream",
     "text": [
      "The Fibonacci series \n"
     ]
    },
    {
     "data": {
      "text/plain": [
       "{1: 0,\n",
       " 2: 1,\n",
       " 3: 1,\n",
       " 4: 2,\n",
       " 5: 3,\n",
       " 6: 5,\n",
       " 7: 8,\n",
       " 8: 13,\n",
       " 9: 21,\n",
       " 10: 34,\n",
       " 11: 55,\n",
       " 12: 89,\n",
       " 13: 144,\n",
       " 14: 233,\n",
       " 15: 377,\n",
       " 16: 610,\n",
       " 17: 987,\n",
       " 18: 1597}"
      ]
     },
     "execution_count": 8,
     "metadata": {},
     "output_type": "execute_result"
    }
   ],
   "source": [
    "print(\"The Fibonacci series \")\n",
    "val\n"
   ]
  }
 ],
 "metadata": {
  "kernelspec": {
   "display_name": "Python 3",
   "language": "python",
   "name": "python3"
  },
  "language_info": {
   "codemirror_mode": {
    "name": "ipython",
    "version": 3
   },
   "file_extension": ".py",
   "mimetype": "text/x-python",
   "name": "python",
   "nbconvert_exporter": "python",
   "pygments_lexer": "ipython3",
   "version": "3.8.5"
  }
 },
 "nbformat": 4,
 "nbformat_minor": 4
}
